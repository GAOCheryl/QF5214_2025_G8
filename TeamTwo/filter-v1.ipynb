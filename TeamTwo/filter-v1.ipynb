{
 "cells": [
  {
   "cell_type": "markdown",
   "id": "70512fe5-948b-4402-8792-c1d50c3267c0",
   "metadata": {},
   "source": [
    "The main function of the filter \n",
    "step1: cleaning \n",
    "1.Emoji \n",
    "2.Link \n",
    "3.Stock symbol tag after topic comment (all tags have two spaces in front of them) \n",
    "4.Formatting problems\n",
    "\n",
    "Step2: Screening \n",
    "1.Meaningless comments with too few words \n",
    "2.Advertising comments \n",
    "3.Irrelevant comments (just with tags)\n"
   ]
  },
  {
   "cell_type": "code",
   "execution_count": 6,
   "id": "0fbbc8e1-60e1-4088-9c16-f4f596bebeb0",
   "metadata": {},
   "outputs": [],
   "source": [
    "import pandas as pd\n",
    "import re"
   ]
  },
  {
   "cell_type": "code",
   "execution_count": 9,
   "id": "19ca18c4-557b-4b14-b864-dfd5f07fc11f",
   "metadata": {},
   "outputs": [],
   "source": [
    "\n",
    "# Define a function to clean the text\n",
    "def clean_text(text):\n",
    "    text = text.lower()  # to lowercase\n",
    "    text = re.sub(r'\\s{2,}.*', '', text) # Remove the ticker symbol of the non-body part (after two spaces)\n",
    "    text = re.sub(r'[^\\x00-\\x7F]+', '', text) # to remove emojis\n",
    "    text = re.sub(r'http\\S+|www.\\S+', '', text)  # Remove URL\n",
    "    text = re.sub(r'@\\w+', '', text)  # Remove @UserID\n",
    "    text = re.sub(r'#[A-Za-z0-9]+', '', text)  # to remove #Tag\n",
    "    text = re.sub(r'RT\\s+', '', text)  # Remove the RT forwarding tag\n",
    "    text = re.sub(r'[^\\w\\s$]', '', text) # Remove special characters and punctuation marks (keep the $ sign as it is used to represent ticker symbols)\n",
    "    text = ' '.join(text.split()) # Remove extra spaces\n",
    "    return text\n",
    "\n",
    "\n"
   ]
  },
  {
   "cell_type": "code",
   "execution_count": 10,
   "id": "67a1280e-72b8-4eaa-aaac-8480d15ea999",
   "metadata": {
    "scrolled": true
   },
   "outputs": [],
   "source": [
    "def filter_irrelevant_comments(text, target_stock):\n",
    "    \"\"\"\n",
    "    Excludes text that does not contain the target stock (e.g., $ABDE) and contains other stocks ($XXXX).\n",
    "    return: A list of eligible reviews\n",
    "    \"\"\"\n",
    "    # Matches all ticker symbols of the form $xxxx\n",
    "    stock_symbols = re.findall(r'\\$\\w+', text)\n",
    "    \n",
    "    # If there is no ticker symbol, return FALSE directly\n",
    "    if not stock_symbols:\n",
    "        return False\n",
    "    \n",
    "    # Filter out $abde\n",
    "    filtered_symbols = [symbol for symbol in stock_symbols if symbol.lower() != f'${target_stock.lower()}']\n",
    "    \n",
    "    # Condition: The text cannot contain \"abde\", but it does contain other ticker symbols\n",
    "    return target_stock.lower() not in text.lower() and len(filtered_symbols) > 0\n",
    "    \n",
    "    "
   ]
  },
  {
   "cell_type": "code",
   "execution_count": 11,
   "id": "d2845cdc-684f-4f51-8ed0-c538b8a19a1a",
   "metadata": {},
   "outputs": [],
   "source": [
    "def remove_stock_symbols_flexible(text):\n",
    "    \"\"\"\n",
    "    Delete all forms such as $XXX... (3-5 letters, case-insensitive).\n",
    "    \"\"\"\n",
    "    pattern = re.compile(r'\\$\\w+', re.IGNORECASE)\n",
    "    cleaned_text = pattern.sub('', text)\n",
    "    cleaned_text = re.sub(r'\\s+', ' ', cleaned_text).strip()\n",
    "    return cleaned_text\n",
    "    \n",
    "\n"
   ]
  },
  {
   "cell_type": "code",
   "execution_count": 12,
   "id": "0ba29d17-852b-48e7-b84d-35d2c0fc8b25",
   "metadata": {},
   "outputs": [],
   "source": [
    "def filter_text(text):\n",
    "    \"\"\"\n",
    "    Filter out ad text, short text, and nonsensical text\n",
    "    Returning True retains the text, and False indicates filtering out\n",
    "    \"\"\"\n",
    "    cleaned = text\n",
    "   # 1. Filter empty text or short text (less than 5 meaningful words)\n",
    "    words = [w for w in cleaned.split() if len(w) > 1]  #  Ignore single-letter words\n",
    "    if len(words) < 5:\n",
    "        return False\n",
    "    \n",
    "    # 2. Filter nonsensical text (check if it contains enough real words)\n",
    "    stop_words = {'a', 'an', 'the', 'and', 'or', 'but', 'is', 'are', 'of', 'to', 'in', 'it', 'this', 'that', 'i'}\n",
    "    content_words = [w for w in words if w not in stop_words]\n",
    "    if len(content_words) < 3:  \n",
    "        return False\n",
    "    \n",
    "    # 3. Filter ad text (using keywords and pattern matching)\n",
    "    ad_patterns = [\n",
    "        r'\\b(?:live\\s+support|trade\\s+ideas|scanner|analysis|market)\\b',\n",
    "        r'\\b(?:join\\s+now|subscribe|limited\\s+time|offer|discount)\\b',\n",
    "        r'\\b(?:don\\'?t\\s+(?:miss|lose)|money\\s+back)\\b',\n",
    "        r'\\b(?:day\\s+trading|stock\\s+market|profit|earn\\s+money)\\b',\n",
    "        r'\\b(?:click|link|website|visit|check\\s+out)\\b',\n",
    "        r'\\b(?:free\\s+trial|bonus|promo|giveaway)\\b',\n",
    "        r'\\!{2,}|\\?{2,}',  # Multiple exclamation marks or question marks\n",
    "        r'\\b(?:guarantee|results|performance|success)\\b'\n",
    "    ]\n",
    "    \n",
    "    for pattern in ad_patterns:\n",
    "        if re.search(pattern, cleaned):\n",
    "            return False\n",
    "    \n",
    "    # 4. Filter non-substantive text (check if it's just repetitive characters or words)\n",
    "    if len(set(words)) < 2:  # All words are the same\n",
    "        return False\n",
    "    \n",
    "    # 5. Filter pure symbols or numerical text\n",
    "    if re.fullmatch(r'[\\d\\W_]+', cleaned.replace(' ', '')):\n",
    "        return False\n",
    "    \n",
    "    return True\n",
    "\n",
    "\n",
    "\n",
    "\n"
   ]
  },
  {
   "cell_type": "code",
   "execution_count": 13,
   "id": "286016ef-f82a-407a-a575-4240bc3a75f6",
   "metadata": {},
   "outputs": [],
   "source": [
    "###############################################################################\n",
    "# Example usage\n",
    "###############################################################################\n",
    "\n",
    "df = pd.read_csv('tweets_nasdaq100_1.csv')\n",
    "\n",
    "# Apply the cleaning function to the Text column\n",
    "df['Cleaned_Text'] = df['Text'].apply(clean_text)\n",
    "\n",
    "# Filter DataFrames\n",
    "df_related = df[df.apply(lambda row: filter_irrelevant_comments(row['Cleaned_Text'], row['Company'])==False, axis=1)].copy()\n",
    "\n",
    "# Delete all stock like $XXX... (3-5 letters, case-insensitive).\n",
    "df_related['Cleaned_Text'] = df_related['Cleaned_Text'].apply(remove_stock_symbols_flexible)\n",
    "\n",
    "# Filter DataFrames\n",
    "df_filtered = df_related[df_related['Cleaned_Text'].apply(filter_text)].copy()\n",
    "\n",
    "\n",
    "# Save the cleaned data to a new Excel file\n",
    "df_filtered.to_csv('filtered_data.csv', index=True)\n"
   ]
  },
  {
   "cell_type": "code",
   "execution_count": null,
   "id": "143fd9c9-1191-47c7-918d-cbabb010dee7",
   "metadata": {},
   "outputs": [],
   "source": []
  }
 ],
 "metadata": {
  "kernelspec": {
   "display_name": "Python 3 (ipykernel)",
   "language": "python",
   "name": "python3"
  },
  "language_info": {
   "codemirror_mode": {
    "name": "ipython",
    "version": 3
   },
   "file_extension": ".py",
   "mimetype": "text/x-python",
   "name": "python",
   "nbconvert_exporter": "python",
   "pygments_lexer": "ipython3",
   "version": "3.12.7"
  }
 },
 "nbformat": 4,
 "nbformat_minor": 5
}
